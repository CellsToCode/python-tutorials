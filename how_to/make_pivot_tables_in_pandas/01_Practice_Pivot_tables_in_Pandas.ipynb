{
  "nbformat": 4,
  "nbformat_minor": 0,
  "metadata": {
    "colab": {
      "provenance": [],
      "include_colab_link": true
    },
    "kernelspec": {
      "name": "python3",
      "display_name": "Python 3"
    }
  },
  "cells": [
    {
      "cell_type": "markdown",
      "metadata": {
        "id": "view-in-github",
        "colab_type": "text"
      },
      "source": [
        "<a href=\"https://colab.research.google.com/github/CellsToCode/python-tutorials/blob/main/how_to/make_pivot_tables_in_pandas/01_Practice_Pivot_tables_in_Pandas.ipynb\" target=\"_parent\"><img src=\"https://colab.research.google.com/assets/colab-badge.svg\" alt=\"Open In Colab\"/></a>"
      ]
    },
    {
      "cell_type": "markdown",
      "metadata": {
        "id": "Beh6bUquc8zo"
      },
      "source": [
        "# Creating Pivot Tables with Python & Pandas\n",
        "---"
      ]
    },
    {
      "cell_type": "markdown",
      "source": [
        "Notebook used on [cellstocode.com](https://cellstocode.com/how-to-create-pivot-tables-using-python-and-pandas/) & on the [Cells to Code Youtube channel](https://www.youtube.com/channel/UCWsV0g7vAE4EJJwPc30VJfA)"
      ],
      "metadata": {
        "id": "xawxK04PyEr3"
      }
    },
    {
      "cell_type": "markdown",
      "metadata": {
        "id": "9tvDTiC50nji"
      },
      "source": [
        "## **Excel:**\n",
        "\n",
        "*   Created on Ribbon -> Insert\n",
        "\n",
        "![pivot-tables.png](data:image/png;base64,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)"
      ]
    },
    {
      "cell_type": "markdown",
      "metadata": {
        "id": "8g-27bzQ0noF"
      },
      "source": [
        "## **Python:**\n",
        "\n",
        "\n",
        "\n",
        "*   Uses pd.pivot_table()\n",
        "*   Assumes dataframe\n",
        "\n",
        "\n",
        "    pd.pivot_table(df\n",
        "               , index='Rows'              # Rows box in Excel\n",
        "               , columns='Columns'         # Columns Box in Excel\n",
        "               , values='Values'           # Values box in Excel (choose variable to aggregate)\n",
        "               , aggfunc='sum')           # Value Field Settings window in Excel (default is mean)\n",
        "\n",
        "\n",
        "OR\n",
        "\n",
        "    df.pivot_table()\n",
        "\n",
        "\n",
        "\n",
        "<br>"
      ]
    },
    {
      "cell_type": "markdown",
      "metadata": {
        "id": "qbliTCKf0etz"
      },
      "source": [
        "### Load required packages and data"
      ]
    },
    {
      "cell_type": "code",
      "metadata": {
        "id": "tCxMImfIc7JO"
      },
      "source": [
        "# Import required packages ()\n"
      ],
      "execution_count": null,
      "outputs": []
    },
    {
      "cell_type": "code",
      "metadata": {
        "id": "iMfXVgrt0gRE"
      },
      "source": [
        "# Import data\n"
      ],
      "execution_count": null,
      "outputs": []
    },
    {
      "cell_type": "markdown",
      "metadata": {
        "id": "rdXFe1UZ6WnE"
      },
      "source": [
        "<br>\n",
        "\n",
        "### Excel Demo: Use `cars` dataframe to build simple pivot table in Excel\n",
        "---"
      ]
    },
    {
      "cell_type": "code",
      "metadata": {
        "id": "j7ny3VtH7qoT"
      },
      "source": [
        "# Preview cars dataframe\n"
      ],
      "execution_count": null,
      "outputs": []
    },
    {
      "cell_type": "markdown",
      "metadata": {
        "id": "uu7G_3YoGHi-"
      },
      "source": [
        "<br>"
      ]
    },
    {
      "cell_type": "code",
      "metadata": {
        "id": "ixSk_ZF8Zsfx"
      },
      "source": [
        "# Create pivot table with Cylinders on rows (index)\n"
      ],
      "execution_count": null,
      "outputs": []
    },
    {
      "cell_type": "markdown",
      "metadata": {
        "id": "13UBmacnGJOa"
      },
      "source": [
        "<br>"
      ]
    },
    {
      "cell_type": "code",
      "metadata": {
        "id": "VxnY8WAya1ke"
      },
      "source": [
        "# Create pivot table with Cylinders on columns\n"
      ],
      "execution_count": null,
      "outputs": []
    },
    {
      "cell_type": "markdown",
      "metadata": {
        "id": "MZkaLhriGJi7"
      },
      "source": [
        "<br>"
      ]
    },
    {
      "cell_type": "code",
      "metadata": {
        "id": "SnCKhjDpbEyX"
      },
      "source": [
        "# Create pivot table which returns averages for variables broken out by Origin (columns) and Cylinders (index)\n"
      ],
      "execution_count": null,
      "outputs": []
    },
    {
      "cell_type": "markdown",
      "metadata": {
        "id": "P9LD556QGKoy"
      },
      "source": [
        "<br>"
      ]
    },
    {
      "cell_type": "code",
      "metadata": {
        "id": "j5OT8Fm42RzQ"
      },
      "source": [
        "# Create pivot table which counts the number of cars created by Origin (columns) and Cylinders (index)\n"
      ],
      "execution_count": null,
      "outputs": []
    },
    {
      "cell_type": "markdown",
      "metadata": {
        "id": "-ZgTFb3QGLSh"
      },
      "source": [
        "<br>"
      ]
    },
    {
      "cell_type": "code",
      "metadata": {
        "id": "WXO3ynYM7dR4"
      },
      "source": [
        "# Create pivot table which counts the number of cars created by Origin and Cylinders (include fill_value, margins, margins_name) - save to a df called cars_pivot\n"
      ],
      "execution_count": null,
      "outputs": []
    },
    {
      "cell_type": "markdown",
      "source": [
        "<br>"
      ],
      "metadata": {
        "id": "LM2sAJaSib8o"
      }
    },
    {
      "cell_type": "markdown",
      "source": [
        "<br><br>\n",
        "\n",
        "## Exporting the Results"
      ],
      "metadata": {
        "id": "jlBgw3i_ifzV"
      }
    },
    {
      "cell_type": "code",
      "source": [
        "# Output the final result\n"
      ],
      "metadata": {
        "id": "1sbjA5TRd9w_"
      },
      "execution_count": null,
      "outputs": []
    },
    {
      "cell_type": "markdown",
      "source": [
        "<br><br>\n",
        "\n",
        "## Using multiple arguments"
      ],
      "metadata": {
        "id": "1rKHsoKMibR9"
      }
    },
    {
      "cell_type": "code",
      "source": [
        "# Create pivot table which returns the total and average miles per gallon by Origin and Cylinders\n"
      ],
      "metadata": {
        "id": "zyIUiPEGibl0"
      },
      "execution_count": null,
      "outputs": []
    }
  ]
}