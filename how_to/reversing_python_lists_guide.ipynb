{
  "nbformat": 4,
  "nbformat_minor": 0,
  "metadata": {
    "colab": {
      "name": "Reversing Python Lists.ipynb",
      "provenance": [],
      "collapsed_sections": [],
      "authorship_tag": "ABX9TyOHcnzsumBDGuMZfcnjeLz5",
      "include_colab_link": true
    },
    "kernelspec": {
      "name": "python3",
      "display_name": "Python 3"
    },
    "language_info": {
      "name": "python"
    }
  },
  "cells": [
    {
      "cell_type": "markdown",
      "metadata": {
        "id": "view-in-github",
        "colab_type": "text"
      },
      "source": [
        "<a href=\"https://colab.research.google.com/github/CellsToCode/python-tutorials/blob/main/how_to/reversing_python_lists_guide.ipynb\" target=\"_parent\"><img src=\"https://colab.research.google.com/assets/colab-badge.svg\" alt=\"Open In Colab\"/></a>"
      ]
    },
    {
      "cell_type": "markdown",
      "source": [
        "# Reversing a List in Python (3 Fast Ways)"
      ],
      "metadata": {
        "id": "lP11IXUkbBQw"
      }
    },
    {
      "cell_type": "markdown",
      "source": [
        "Here are three of the best performing ways to reverse a list in Python — not every possibility. As with any coding problem, there are other ways to approach the same problem with other techniques like for loops, recursion, and slicing. However, those approaches often run slower and are more difficult for beginners. \n",
        "\n",
        "\n",
        "**Techniques covered in this notebook:**\n",
        "1.   list.reverse() method\n",
        "2.   reversed() function\n",
        "3.   List comprehension\n",
        "\n"
      ],
      "metadata": {
        "id": "DhR9yuvJnPSb"
      }
    },
    {
      "cell_type": "markdown",
      "source": [
        "See full tutorial at: https://www.cellstocode.com/reverse-order-of-list-python"
      ],
      "metadata": {
        "id": "ffdmOoHqhZTn"
      }
    },
    {
      "cell_type": "markdown",
      "source": [
        "<br><br>"
      ],
      "metadata": {
        "id": "sgh2fcArhbag"
      }
    },
    {
      "cell_type": "markdown",
      "source": [
        "## Option 1: list.reverse() method"
      ],
      "metadata": {
        "id": "oNPo08q4bMhS"
      }
    },
    {
      "cell_type": "markdown",
      "source": [
        "The first option is to reverse the list using the `.reverse()` method. This will reverse the list \"in-place\" which means that it will override the original list with the reversed values. Reversing in place is fast and more efficient on memory but it means that you lose the sorting of the original list. "
      ],
      "metadata": {
        "id": "uJTB8cAibYt9"
      }
    },
    {
      "cell_type": "code",
      "execution_count": 6,
      "metadata": {
        "colab": {
          "base_uri": "https://localhost:8080/"
        },
        "id": "yyqHo3IAWDOQ",
        "outputId": "ec86a837-99e2-45e6-e774-8032efc98e01"
      },
      "outputs": [
        {
          "output_type": "stream",
          "name": "stdout",
          "text": [
            "['Congrats!', 'You', 'successfully', 'reversed', 'a', 'list', 'using', 'Python']\n"
          ]
        }
      ],
      "source": [
        "my_sentence = ['Python', 'using', 'list', 'a', 'reversed', 'successfully', 'You', 'Congrats!']\n",
        "my_sentence.reverse()\n",
        "print(my_sentence)"
      ]
    },
    {
      "cell_type": "code",
      "source": [
        "fibonacci = [0, 1, 1, 2, 3, 5, 8, 13, 21, 34, 55, 89, 144, 233, 377, 610, 987]\n",
        "fibonacci.reverse()\n",
        "fibonacci"
      ],
      "metadata": {
        "colab": {
          "base_uri": "https://localhost:8080/"
        },
        "id": "OckMF5oudcZA",
        "outputId": "7880a781-17c9-41da-879c-9e11a2636c37"
      },
      "execution_count": 7,
      "outputs": [
        {
          "output_type": "execute_result",
          "data": {
            "text/plain": [
              "[987, 610, 377, 233, 144, 89, 55, 34, 21, 13, 8, 5, 3, 2, 1, 1, 0]"
            ]
          },
          "metadata": {},
          "execution_count": 7
        }
      ]
    },
    {
      "cell_type": "markdown",
      "source": [
        "<br><br>\n",
        "\n",
        "## Option 2: reverse(list) function"
      ],
      "metadata": {
        "id": "2eydnE8abV9e"
      }
    },
    {
      "cell_type": "markdown",
      "source": [
        "Another quick and easy way to reverse a list is with the reversed() function. "
      ],
      "metadata": {
        "id": "yZGML7krg6zk"
      }
    },
    {
      "cell_type": "code",
      "source": [
        "backwards = ['Python', 'using', 'list', 'a', 'reversed', 'successfully', 'You', 'Congrats!']\n",
        "reversed(backwards)"
      ],
      "metadata": {
        "colab": {
          "base_uri": "https://localhost:8080/"
        },
        "id": "Mijvnm9vYJdL",
        "outputId": "92a39591-6254-4b2e-f70a-14f97bb1fe09"
      },
      "execution_count": 8,
      "outputs": [
        {
          "output_type": "execute_result",
          "data": {
            "text/plain": [
              "<list_reverseiterator at 0x7fb151dcf3d0>"
            ]
          },
          "metadata": {},
          "execution_count": 8
        }
      ]
    },
    {
      "cell_type": "code",
      "source": [
        "forwards = list(reversed(backwards))\n",
        "print(forwards)"
      ],
      "metadata": {
        "colab": {
          "base_uri": "https://localhost:8080/"
        },
        "id": "Fwhu4cyRZIKa",
        "outputId": "4249eb25-b2a1-4906-cb05-36cc1950330e"
      },
      "execution_count": 9,
      "outputs": [
        {
          "output_type": "stream",
          "name": "stdout",
          "text": [
            "['Congrats!', 'You', 'successfully', 'reversed', 'a', 'list', 'using', 'Python']\n"
          ]
        }
      ]
    },
    {
      "cell_type": "markdown",
      "source": [
        "<br><br>\n",
        "\n",
        "## Option 3: List comprehension"
      ],
      "metadata": {
        "id": "C-ViFfKNcPIN"
      }
    },
    {
      "cell_type": "markdown",
      "source": [
        "Another alternative you can use to reverse lists is comprehensions. This is a little harder to read than the previous two examples, but is still fast performance wise. For a better explaination of this code, check out the [full article on cellstocode.com](https://www.cellstocode.com/reverse-order-of-list-python)!"
      ],
      "metadata": {
        "id": "Jw81Kf3rgpcr"
      }
    },
    {
      "cell_type": "code",
      "source": [
        "backwards = ['Python', 'using', 'list', 'a', 'reversed', 'successfully', 'You', 'Congrats!']\n",
        "\n",
        "# Find the last index\n",
        "last_index = len(backwards) - 1\n",
        "\n",
        "# Grab the list item at index i for every item from the last index to index 0 (heading backward)\n",
        "forwards = [backwards[i] for i in range(last_index, -1, -1)]\n",
        "\n",
        "print(forwards)"
      ],
      "metadata": {
        "colab": {
          "base_uri": "https://localhost:8080/"
        },
        "id": "3-iq6kFlZNY7",
        "outputId": "4eb06e10-a965-4fab-cded-69bfd533d15e"
      },
      "execution_count": 15,
      "outputs": [
        {
          "output_type": "stream",
          "name": "stdout",
          "text": [
            "['Congrats!', 'You', 'successfully', 'reversed', 'a', 'list', 'using', 'Python']\n"
          ]
        }
      ]
    }
  ]
}