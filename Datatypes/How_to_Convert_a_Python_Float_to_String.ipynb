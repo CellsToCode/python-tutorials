{
  "nbformat": 4,
  "nbformat_minor": 0,
  "metadata": {
    "colab": {
      "name": "How to Convert a Python Float to String",
      "provenance": [],
      "collapsed_sections": [],
      "authorship_tag": "ABX9TyMyJm4fbJx350485ih5Zb1d",
      "include_colab_link": true
    },
    "kernelspec": {
      "name": "python3",
      "display_name": "Python 3"
    },
    "language_info": {
      "name": "python"
    }
  },
  "cells": [
    {
      "cell_type": "markdown",
      "metadata": {
        "id": "view-in-github",
        "colab_type": "text"
      },
      "source": [
        "<a href=\"https://colab.research.google.com/github/CellsToCode/python-tutorials/blob/main/Datatypes/How_to_Convert_a_Python_Float_to_String.ipynb\" target=\"_parent\"><img src=\"https://colab.research.google.com/assets/colab-badge.svg\" alt=\"Open In Colab\"/></a>"
      ]
    },
    {
      "cell_type": "markdown",
      "source": [
        "# How to Convert A Python Float To String\n",
        "A quick tutorial from Cells To Code"
      ],
      "metadata": {
        "id": "pdXpUv2wl1p6"
      }
    },
    {
      "cell_type": "markdown",
      "source": [
        "<br>"
      ],
      "metadata": {
        "id": "A4HnoxD6mTDF"
      }
    },
    {
      "cell_type": "markdown",
      "source": [
        "## Convert Python Float to String"
      ],
      "metadata": {
        "id": "AbEqgXeGViz5"
      }
    },
    {
      "cell_type": "markdown",
      "source": [
        "If you are only dealing with a single float value, the fastest way to convert it to a string is to wrap it inside the `str()` function. "
      ],
      "metadata": {
        "id": "FM8YwYx9mRfn"
      }
    },
    {
      "cell_type": "code",
      "source": [
        "# Our floats!\n",
        "e = 2.71828182845904523536028747135266249775724709369995\n",
        "pi = 3.14159265359\n",
        "the_answer = 42.00\n",
        "\n",
        "# Wrap float in the str() function to convert to string\n",
        "str(pi)"
      ],
      "metadata": {
        "colab": {
          "base_uri": "https://localhost:8080/",
          "height": 35
        },
        "id": "jtGPGJFmWaFp",
        "outputId": "f4564707-4460-4cd1-9e09-febf04499ca6"
      },
      "execution_count": 1,
      "outputs": [
        {
          "output_type": "execute_result",
          "data": {
            "text/plain": [
              "'3.14159265359'"
            ],
            "application/vnd.google.colaboratory.intrinsic+json": {
              "type": "string"
            }
          },
          "metadata": {},
          "execution_count": 1
        }
      ]
    },
    {
      "cell_type": "markdown",
      "source": [
        "We know that both of these values have been converted to a string because of the single ticks (' ') shown on either side of our number in the output. \n",
        "\n",
        "If we wanted to be 100% sure that the conversion had worked, we could also test it by using the `type()` function. "
      ],
      "metadata": {
        "id": "C3OJcP2QmdA2"
      }
    },
    {
      "cell_type": "code",
      "source": [
        "type(str(pi))"
      ],
      "metadata": {
        "colab": {
          "base_uri": "https://localhost:8080/"
        },
        "id": "DvV_Zt9Cj317",
        "outputId": "b0ef8d2c-b27b-43de-f5b4-0f42a77f2902"
      },
      "execution_count": 2,
      "outputs": [
        {
          "output_type": "execute_result",
          "data": {
            "text/plain": [
              "str"
            ]
          },
          "metadata": {},
          "execution_count": 2
        }
      ]
    },
    {
      "cell_type": "markdown",
      "source": [
        "<br><br>"
      ],
      "metadata": {
        "id": "odiYAKLwcp7H"
      }
    },
    {
      "cell_type": "markdown",
      "source": [
        "## Python Float to String without decimal\n",
        "\n",
        "---\n",
        "\n",
        "\n"
      ],
      "metadata": {
        "id": "vv6-gnVgQp2l"
      }
    },
    {
      "cell_type": "markdown",
      "source": [
        "You can also apply rounding to the float before converting it to a string. To do this, all you need to do is wrap the float inside the `round()` function first. "
      ],
      "metadata": {
        "id": "Mwj96A9bms42"
      }
    },
    {
      "cell_type": "code",
      "source": [
        "# Next the round function inside str() to round\n",
        "str(round(the_answer))"
      ],
      "metadata": {
        "colab": {
          "base_uri": "https://localhost:8080/",
          "height": 35
        },
        "id": "d_O9FkX1bwrc",
        "outputId": "61f64954-7118-4ec9-cb61-8436182b957b"
      },
      "execution_count": 3,
      "outputs": [
        {
          "output_type": "execute_result",
          "data": {
            "text/plain": [
              "'42'"
            ],
            "application/vnd.google.colaboratory.intrinsic+json": {
              "type": "string"
            }
          },
          "metadata": {},
          "execution_count": 3
        }
      ]
    },
    {
      "cell_type": "markdown",
      "source": [
        "<br><br>"
      ],
      "metadata": {
        "id": "MDwkpgGacs0L"
      }
    },
    {
      "cell_type": "markdown",
      "source": [
        "## Python Float to String with 2 Decimals"
      ],
      "metadata": {
        "id": "xeYc1PQ8Qkyo"
      }
    },
    {
      "cell_type": "markdown",
      "source": [
        "You can choose the number of decimals to round to by giving the `round()` function an extra argument after telling it what number you are rounding. "
      ],
      "metadata": {
        "id": "ur_HPq5cm59v"
      }
    },
    {
      "cell_type": "code",
      "source": [
        "# Round to 2 decimals instead\n",
        "str(round(pi, 2))"
      ],
      "metadata": {
        "colab": {
          "base_uri": "https://localhost:8080/",
          "height": 35
        },
        "id": "XVReRxRGVyH1",
        "outputId": "45de17f1-b377-41c9-f3de-8faec966781c"
      },
      "execution_count": 4,
      "outputs": [
        {
          "output_type": "execute_result",
          "data": {
            "text/plain": [
              "'3.14'"
            ],
            "application/vnd.google.colaboratory.intrinsic+json": {
              "type": "string"
            }
          },
          "metadata": {},
          "execution_count": 4
        }
      ]
    },
    {
      "cell_type": "markdown",
      "source": [
        "<br><br>"
      ],
      "metadata": {
        "id": "1irv2p23ct1o"
      }
    },
    {
      "cell_type": "markdown",
      "source": [
        "## Python Float to String in List"
      ],
      "metadata": {
        "id": "TLF4HZ0bQuuy"
      }
    },
    {
      "cell_type": "markdown",
      "source": [
        "### Example 1: `map()`"
      ],
      "metadata": {
        "id": "kfVjTZLsnk9r"
      }
    },
    {
      "cell_type": "code",
      "source": [
        "# Create a list of all our cool float values\n",
        "float_list = [e, pi, the_answer]\n",
        "float_list"
      ],
      "metadata": {
        "id": "Ma3lghNkWKKw",
        "colab": {
          "base_uri": "https://localhost:8080/"
        },
        "outputId": "6fec7fe7-8d18-41bc-e7a9-aab866be7154"
      },
      "execution_count": 5,
      "outputs": [
        {
          "output_type": "execute_result",
          "data": {
            "text/plain": [
              "[2.718281828459045, 3.14159265359, 42.0]"
            ]
          },
          "metadata": {},
          "execution_count": 5
        }
      ]
    },
    {
      "cell_type": "markdown",
      "source": [
        "One of the best ways to convert a list of floats to strings in Python (in my opinion) is to use the `map()` function.  This function works by taking 2 main arguments — the function you want to use and the object you want to use it on. "
      ],
      "metadata": {
        "id": "XRD6DsF6nXTy"
      }
    },
    {
      "cell_type": "code",
      "source": [
        "# Use the map function to apply str() to a list\n",
        "# Map works on any iterable like lists, strings, tuples, dictionaries, etc..\n",
        "map(str, float_list)"
      ],
      "metadata": {
        "colab": {
          "base_uri": "https://localhost:8080/"
        },
        "id": "a4_t0pICdC9y",
        "outputId": "5fc0099e-08b7-44a9-8617-48274edd7823"
      },
      "execution_count": 6,
      "outputs": [
        {
          "output_type": "execute_result",
          "data": {
            "text/plain": [
              "<map at 0x7fa7bd175250>"
            ]
          },
          "metadata": {},
          "execution_count": 6
        }
      ]
    },
    {
      "cell_type": "markdown",
      "source": [
        "The output we get back returns an odd reference with a bunch of numbers and letters. Those numbers and letters represent a spot in our computer's (or cloud computer's) memory. Without diving too much into the technical details, it is basically saying that we have a map object we built that is being stored for us. \n",
        "\n",
        "To get the result back to something useful, we need to next our code inside the list() function. We can then save this to a new variable and confirm that our mapping worked."
      ],
      "metadata": {
        "id": "mRSCMpoanNfH"
      }
    },
    {
      "cell_type": "code",
      "source": [
        "# Wrap map() inside list() to see our results\n",
        "float_list_str = list(map(str, float_list))\n",
        "float_list_str"
      ],
      "metadata": {
        "id": "-H7f1q-mYGmy",
        "colab": {
          "base_uri": "https://localhost:8080/"
        },
        "outputId": "33498014-3785-478b-f407-8add2509eaa1"
      },
      "execution_count": 7,
      "outputs": [
        {
          "output_type": "execute_result",
          "data": {
            "text/plain": [
              "['2.718281828459045', '3.14159265359', '42.0']"
            ]
          },
          "metadata": {},
          "execution_count": 7
        }
      ]
    },
    {
      "cell_type": "markdown",
      "source": [
        "<br><br>"
      ],
      "metadata": {
        "id": "MFt_2XgHnvfd"
      }
    },
    {
      "cell_type": "markdown",
      "source": [
        "### Example 2: List comprehension"
      ],
      "metadata": {
        "id": "NJ8svBjknsof"
      }
    },
    {
      "cell_type": "markdown",
      "source": [
        "Instead of using `map( )`, you could also use a list comprehension to accomplish the same thing. The way you use them is by wrapping your desired output, collection, and condition in square brackets. \n",
        "\n",
        "Here is an example of a list comprehension that creates a list of even numbers under 10. The result is a list containing [0, 2, 4, 6, 8]. "
      ],
      "metadata": {
        "id": "JksrKpEnn2Y0"
      }
    },
    {
      "cell_type": "markdown",
      "source": [
        "<!-- wp:image {\"align\":\"center\",\"id\":2279,\"sizeSlug\":\"full\",\"linkDestination\":\"none\"} -->\n",
        "<figure class=\"wp-block-image aligncenter size-full\"><img src=\"https://cellstocode.com/wp-content/uploads/2022/07/image.png\" alt=\"\" class=\"wp-image-2279\"/></figure>\n",
        "<!-- /wp:image -->"
      ],
      "metadata": {
        "id": "-MYT0kETn7xf"
      }
    },
    {
      "cell_type": "markdown",
      "source": [
        "To convert our list of floats to strings we can call on the `str()` function we used above. Our desired output will be to apply `str()` to every item in the list. We also don't need to include a condition in this case since we are trying to apply the operation to every item. "
      ],
      "metadata": {
        "id": "cMyyTnWnoBgd"
      }
    },
    {
      "cell_type": "code",
      "source": [
        "string_list = [str(every_item) for every_item in float_list]\n",
        "string_list"
      ],
      "metadata": {
        "colab": {
          "base_uri": "https://localhost:8080/"
        },
        "id": "YZ17LEM9rlzj",
        "outputId": "ce4dfcb8-bf70-4b3c-9956-965b9cacdce7"
      },
      "execution_count": 8,
      "outputs": [
        {
          "output_type": "execute_result",
          "data": {
            "text/plain": [
              "['2.718281828459045', '3.14159265359', '42.0']"
            ]
          },
          "metadata": {},
          "execution_count": 8
        }
      ]
    },
    {
      "cell_type": "markdown",
      "source": [
        "<br><br>"
      ],
      "metadata": {
        "id": "bi3jvgvicwd-"
      }
    },
    {
      "cell_type": "markdown",
      "source": [
        "## Convert pandas series of floats to strings"
      ],
      "metadata": {
        "id": "wNURDfAoYpsn"
      }
    },
    {
      "cell_type": "markdown",
      "source": [
        "Let's start out by creating a single-column data frame with the [`pd.DataFrame()`](https://pandas.pydata.org/docs/reference/api/pandas.DataFrame.html) function."
      ],
      "metadata": {
        "id": "qfDuLBPXupTY"
      }
    },
    {
      "cell_type": "code",
      "source": [
        "import pandas as pd\n",
        "\n",
        "df = pd.DataFrame({'insert_unique_column_name_here': float_list})\n",
        "df"
      ],
      "metadata": {
        "id": "T_d0oBpbYpVI",
        "colab": {
          "base_uri": "https://localhost:8080/",
          "height": 143
        },
        "outputId": "461e7aff-06d3-4a49-f138-949e921ac89b"
      },
      "execution_count": 9,
      "outputs": [
        {
          "output_type": "execute_result",
          "data": {
            "text/plain": [
              "   insert_unique_column_name_here\n",
              "0                        2.718282\n",
              "1                        3.141593\n",
              "2                       42.000000"
            ],
            "text/html": [
              "\n",
              "  <div id=\"df-c7bd81e5-dcab-4c9a-9aa0-edec4ea65ce6\">\n",
              "    <div class=\"colab-df-container\">\n",
              "      <div>\n",
              "<style scoped>\n",
              "    .dataframe tbody tr th:only-of-type {\n",
              "        vertical-align: middle;\n",
              "    }\n",
              "\n",
              "    .dataframe tbody tr th {\n",
              "        vertical-align: top;\n",
              "    }\n",
              "\n",
              "    .dataframe thead th {\n",
              "        text-align: right;\n",
              "    }\n",
              "</style>\n",
              "<table border=\"1\" class=\"dataframe\">\n",
              "  <thead>\n",
              "    <tr style=\"text-align: right;\">\n",
              "      <th></th>\n",
              "      <th>insert_unique_column_name_here</th>\n",
              "    </tr>\n",
              "  </thead>\n",
              "  <tbody>\n",
              "    <tr>\n",
              "      <th>0</th>\n",
              "      <td>2.718282</td>\n",
              "    </tr>\n",
              "    <tr>\n",
              "      <th>1</th>\n",
              "      <td>3.141593</td>\n",
              "    </tr>\n",
              "    <tr>\n",
              "      <th>2</th>\n",
              "      <td>42.000000</td>\n",
              "    </tr>\n",
              "  </tbody>\n",
              "</table>\n",
              "</div>\n",
              "      <button class=\"colab-df-convert\" onclick=\"convertToInteractive('df-c7bd81e5-dcab-4c9a-9aa0-edec4ea65ce6')\"\n",
              "              title=\"Convert this dataframe to an interactive table.\"\n",
              "              style=\"display:none;\">\n",
              "        \n",
              "  <svg xmlns=\"http://www.w3.org/2000/svg\" height=\"24px\"viewBox=\"0 0 24 24\"\n",
              "       width=\"24px\">\n",
              "    <path d=\"M0 0h24v24H0V0z\" fill=\"none\"/>\n",
              "    <path d=\"M18.56 5.44l.94 2.06.94-2.06 2.06-.94-2.06-.94-.94-2.06-.94 2.06-2.06.94zm-11 1L8.5 8.5l.94-2.06 2.06-.94-2.06-.94L8.5 2.5l-.94 2.06-2.06.94zm10 10l.94 2.06.94-2.06 2.06-.94-2.06-.94-.94-2.06-.94 2.06-2.06.94z\"/><path d=\"M17.41 7.96l-1.37-1.37c-.4-.4-.92-.59-1.43-.59-.52 0-1.04.2-1.43.59L10.3 9.45l-7.72 7.72c-.78.78-.78 2.05 0 2.83L4 21.41c.39.39.9.59 1.41.59.51 0 1.02-.2 1.41-.59l7.78-7.78 2.81-2.81c.8-.78.8-2.07 0-2.86zM5.41 20L4 18.59l7.72-7.72 1.47 1.35L5.41 20z\"/>\n",
              "  </svg>\n",
              "      </button>\n",
              "      \n",
              "  <style>\n",
              "    .colab-df-container {\n",
              "      display:flex;\n",
              "      flex-wrap:wrap;\n",
              "      gap: 12px;\n",
              "    }\n",
              "\n",
              "    .colab-df-convert {\n",
              "      background-color: #E8F0FE;\n",
              "      border: none;\n",
              "      border-radius: 50%;\n",
              "      cursor: pointer;\n",
              "      display: none;\n",
              "      fill: #1967D2;\n",
              "      height: 32px;\n",
              "      padding: 0 0 0 0;\n",
              "      width: 32px;\n",
              "    }\n",
              "\n",
              "    .colab-df-convert:hover {\n",
              "      background-color: #E2EBFA;\n",
              "      box-shadow: 0px 1px 2px rgba(60, 64, 67, 0.3), 0px 1px 3px 1px rgba(60, 64, 67, 0.15);\n",
              "      fill: #174EA6;\n",
              "    }\n",
              "\n",
              "    [theme=dark] .colab-df-convert {\n",
              "      background-color: #3B4455;\n",
              "      fill: #D2E3FC;\n",
              "    }\n",
              "\n",
              "    [theme=dark] .colab-df-convert:hover {\n",
              "      background-color: #434B5C;\n",
              "      box-shadow: 0px 1px 3px 1px rgba(0, 0, 0, 0.15);\n",
              "      filter: drop-shadow(0px 1px 2px rgba(0, 0, 0, 0.3));\n",
              "      fill: #FFFFFF;\n",
              "    }\n",
              "  </style>\n",
              "\n",
              "      <script>\n",
              "        const buttonEl =\n",
              "          document.querySelector('#df-c7bd81e5-dcab-4c9a-9aa0-edec4ea65ce6 button.colab-df-convert');\n",
              "        buttonEl.style.display =\n",
              "          google.colab.kernel.accessAllowed ? 'block' : 'none';\n",
              "\n",
              "        async function convertToInteractive(key) {\n",
              "          const element = document.querySelector('#df-c7bd81e5-dcab-4c9a-9aa0-edec4ea65ce6');\n",
              "          const dataTable =\n",
              "            await google.colab.kernel.invokeFunction('convertToInteractive',\n",
              "                                                     [key], {});\n",
              "          if (!dataTable) return;\n",
              "\n",
              "          const docLinkHtml = 'Like what you see? Visit the ' +\n",
              "            '<a target=\"_blank\" href=https://colab.research.google.com/notebooks/data_table.ipynb>data table notebook</a>'\n",
              "            + ' to learn more about interactive tables.';\n",
              "          element.innerHTML = '';\n",
              "          dataTable['output_type'] = 'display_data';\n",
              "          await google.colab.output.renderOutput(dataTable, element);\n",
              "          const docLink = document.createElement('div');\n",
              "          docLink.innerHTML = docLinkHtml;\n",
              "          element.appendChild(docLink);\n",
              "        }\n",
              "      </script>\n",
              "    </div>\n",
              "  </div>\n",
              "  "
            ]
          },
          "metadata": {},
          "execution_count": 9
        }
      ]
    },
    {
      "cell_type": "markdown",
      "source": [
        "To convert these values from float to string all I need to do is use the [`.astype()`](https://pandas.pydata.org/docs/reference/api/pandas.DataFrame.astype.html) method on my data frame and give it an argument of str. Since I only want to perform the operation on a single series, I also want to select my column in square brackets."
      ],
      "metadata": {
        "id": "jaqFAWCQur-w"
      }
    },
    {
      "cell_type": "code",
      "source": [
        "df['insert_unique_column_name_here'].astype(str)"
      ],
      "metadata": {
        "colab": {
          "base_uri": "https://localhost:8080/"
        },
        "id": "pV1DesT0Z_2l",
        "outputId": "ed9274e3-fb97-40f0-c191-7cc3df28ffdf"
      },
      "execution_count": 10,
      "outputs": [
        {
          "output_type": "execute_result",
          "data": {
            "text/plain": [
              "0    2.718281828459045\n",
              "1        3.14159265359\n",
              "2                 42.0\n",
              "Name: insert_unique_column_name_here, dtype: object"
            ]
          },
          "metadata": {},
          "execution_count": 10
        }
      ]
    },
    {
      "cell_type": "markdown",
      "source": [
        "<br><br>"
      ],
      "metadata": {
        "id": "JDZTjME8cxtT"
      }
    },
    {
      "cell_type": "markdown",
      "source": [
        "## Pro Tip: F-Strings"
      ],
      "metadata": {
        "id": "XUbPfdLfVeGl"
      }
    },
    {
      "cell_type": "markdown",
      "source": [
        "The last thing I want to show you is how to use [f-strings](https://docs.python.org/3/tutorial/inputoutput.html#formatted-string-literals).\n",
        "\n",
        "F-strings are great because they make it so you can use a float (or other expression value) inside a string without converting it first. \n",
        "\n",
        "You use an f-string by placing the letter F (upper or lower case) right before you start your string. Then, you take the value you want to squeeze into the string and place it in curly brackets { }. Wrap that all inside a print statement and now you have a string that includes your float value!"
      ],
      "metadata": {
        "id": "2WtkzjZ1uyUY"
      }
    },
    {
      "cell_type": "code",
      "execution_count": 11,
      "metadata": {
        "colab": {
          "base_uri": "https://localhost:8080/"
        },
        "id": "XqVtLyvXQAR2",
        "outputId": "c69d477c-440a-4c35-f259-d7a998307588"
      },
      "outputs": [
        {
          "output_type": "stream",
          "name": "stdout",
          "text": [
            "The Ultimate Answer to Life, The Universe and Everything is...42!\n"
          ]
        }
      ],
      "source": [
        "print(f'The Ultimate Answer to Life, The Universe and Everything is...{round(the_answer)}!')"
      ]
    }
  ]
}
